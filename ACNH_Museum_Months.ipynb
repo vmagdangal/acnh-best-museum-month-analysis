{
  "nbformat": 4,
  "nbformat_minor": 0,
  "metadata": {
    "colab": {
      "provenance": [],
      "include_colab_link": true
    },
    "kernelspec": {
      "name": "python3",
      "display_name": "Python 3"
    },
    "language_info": {
      "name": "python"
    }
  },
  "cells": [
    {
      "cell_type": "markdown",
      "metadata": {
        "id": "view-in-github",
        "colab_type": "text"
      },
      "source": [
        "<a href=\"https://colab.research.google.com/github/vmagdangal/acnh-best-museum-month-analysis/blob/main/ACNH_Museum_Months.ipynb\" target=\"_parent\"><img src=\"https://colab.research.google.com/assets/colab-badge.svg\" alt=\"Open In Colab\"/></a>"
      ]
    },
    {
      "cell_type": "markdown",
      "metadata": {
        "id": "Prz_IhNcPyOi"
      },
      "source": [
        "# Which Month Benefits Both the Museum and Player the Most in *Animal Crossing: New Horizons*?\n",
        "\n",
        "---\n",
        "\n"
      ]
    },
    {
      "cell_type": "markdown",
      "metadata": {
        "id": "OY4D2XOWP8C_"
      },
      "source": [
        "This dataset comes from [Kaggle](https://www.kaggle.com/datasets/jessicali9530/animal-crossing-new-horizons-nookplaza-dataset), which features multiple CSVs of categorized content from the 2020 video game, *Animal Crossing: New Horizons*. In the game, the player can donate fish, sea creatures, bugs, fossils, and art to a museum. Certain critters only appear during certain months depending on the player's hemisphere, so I aim to answer: **Which month is the most productive for museum donations and player income?** As fossils and art are completely randomized and can be obtained year-round, I will only analyze fish, sea creatures, and bugs. As I live in the Northern Hemisphere, I will only pay attention to the months labeled \"NH\". Note that all results found are identical to the Southern Hemisphere, just shifted 6 months apart.\n",
        "\n",
        "The Kaggle dataset also did not include a CSV for sea creatures, so I created my own CSV using [Nookipedia](https://nookipedia.com/wiki/Sea_creature/New_Horizons), a community-run wiki for all things Animal Crossing. The `insects.csv` file was also renamed to `bugs.csv` to better represent its contents."
      ]
    },
    {
      "cell_type": "markdown",
      "metadata": {
        "id": "3dD2gVVjyodq"
      },
      "source": [
        "# Objective"
      ]
    },
    {
      "cell_type": "markdown",
      "metadata": {
        "id": "j5OOAWhEy7qF"
      },
      "source": [
        "- Which month is the most productive for museum donations and player income in *Animal Crossing: New Horizons*?"
      ]
    },
    {
      "cell_type": "markdown",
      "metadata": {
        "id": "BjoOfabZyojV"
      },
      "source": [
        "# Fetching Data"
      ]
    },
    {
      "cell_type": "markdown",
      "metadata": {
        "id": "nf1cM4rJzmg8"
      },
      "source": [
        "- The Pandas library is imported to be able to read the CSV."
      ]
    },
    {
      "cell_type": "code",
      "metadata": {
        "id": "IKSGDsTByyUn",
        "colab": {
          "base_uri": "https://localhost:8080/",
          "height": 37
        },
        "outputId": "8795ab8b-0531-41d4-fcd8-dbb642f8a89a"
      },
      "source": [
        "# Upload 3 Files: fish.csv, sea_creatures.csv, insects.csv\n",
        "from google.colab import files\n",
        "uploaded = files.upload()"
      ],
      "execution_count": null,
      "outputs": [
        {
          "output_type": "display_data",
          "data": {
            "text/plain": [
              "<IPython.core.display.HTML object>"
            ],
            "text/html": [
              "\n",
              "     <input type=\"file\" id=\"files-943f3079-99bd-4c36-9120-a9facf302989\" name=\"files[]\" multiple disabled\n",
              "        style=\"border:none\" />\n",
              "     <output id=\"result-943f3079-99bd-4c36-9120-a9facf302989\">\n",
              "      Upload widget is only available when the cell has been executed in the\n",
              "      current browser session. Please rerun this cell to enable.\n",
              "      </output>\n",
              "      <script>// Copyright 2017 Google LLC\n",
              "//\n",
              "// Licensed under the Apache License, Version 2.0 (the \"License\");\n",
              "// you may not use this file except in compliance with the License.\n",
              "// You may obtain a copy of the License at\n",
              "//\n",
              "//      http://www.apache.org/licenses/LICENSE-2.0\n",
              "//\n",
              "// Unless required by applicable law or agreed to in writing, software\n",
              "// distributed under the License is distributed on an \"AS IS\" BASIS,\n",
              "// WITHOUT WARRANTIES OR CONDITIONS OF ANY KIND, either express or implied.\n",
              "// See the License for the specific language governing permissions and\n",
              "// limitations under the License.\n",
              "\n",
              "/**\n",
              " * @fileoverview Helpers for google.colab Python module.\n",
              " */\n",
              "(function(scope) {\n",
              "function span(text, styleAttributes = {}) {\n",
              "  const element = document.createElement('span');\n",
              "  element.textContent = text;\n",
              "  for (const key of Object.keys(styleAttributes)) {\n",
              "    element.style[key] = styleAttributes[key];\n",
              "  }\n",
              "  return element;\n",
              "}\n",
              "\n",
              "// Max number of bytes which will be uploaded at a time.\n",
              "const MAX_PAYLOAD_SIZE = 100 * 1024;\n",
              "\n",
              "function _uploadFiles(inputId, outputId) {\n",
              "  const steps = uploadFilesStep(inputId, outputId);\n",
              "  const outputElement = document.getElementById(outputId);\n",
              "  // Cache steps on the outputElement to make it available for the next call\n",
              "  // to uploadFilesContinue from Python.\n",
              "  outputElement.steps = steps;\n",
              "\n",
              "  return _uploadFilesContinue(outputId);\n",
              "}\n",
              "\n",
              "// This is roughly an async generator (not supported in the browser yet),\n",
              "// where there are multiple asynchronous steps and the Python side is going\n",
              "// to poll for completion of each step.\n",
              "// This uses a Promise to block the python side on completion of each step,\n",
              "// then passes the result of the previous step as the input to the next step.\n",
              "function _uploadFilesContinue(outputId) {\n",
              "  const outputElement = document.getElementById(outputId);\n",
              "  const steps = outputElement.steps;\n",
              "\n",
              "  const next = steps.next(outputElement.lastPromiseValue);\n",
              "  return Promise.resolve(next.value.promise).then((value) => {\n",
              "    // Cache the last promise value to make it available to the next\n",
              "    // step of the generator.\n",
              "    outputElement.lastPromiseValue = value;\n",
              "    return next.value.response;\n",
              "  });\n",
              "}\n",
              "\n",
              "/**\n",
              " * Generator function which is called between each async step of the upload\n",
              " * process.\n",
              " * @param {string} inputId Element ID of the input file picker element.\n",
              " * @param {string} outputId Element ID of the output display.\n",
              " * @return {!Iterable<!Object>} Iterable of next steps.\n",
              " */\n",
              "function* uploadFilesStep(inputId, outputId) {\n",
              "  const inputElement = document.getElementById(inputId);\n",
              "  inputElement.disabled = false;\n",
              "\n",
              "  const outputElement = document.getElementById(outputId);\n",
              "  outputElement.innerHTML = '';\n",
              "\n",
              "  const pickedPromise = new Promise((resolve) => {\n",
              "    inputElement.addEventListener('change', (e) => {\n",
              "      resolve(e.target.files);\n",
              "    });\n",
              "  });\n",
              "\n",
              "  const cancel = document.createElement('button');\n",
              "  inputElement.parentElement.appendChild(cancel);\n",
              "  cancel.textContent = 'Cancel upload';\n",
              "  const cancelPromise = new Promise((resolve) => {\n",
              "    cancel.onclick = () => {\n",
              "      resolve(null);\n",
              "    };\n",
              "  });\n",
              "\n",
              "  // Wait for the user to pick the files.\n",
              "  const files = yield {\n",
              "    promise: Promise.race([pickedPromise, cancelPromise]),\n",
              "    response: {\n",
              "      action: 'starting',\n",
              "    }\n",
              "  };\n",
              "\n",
              "  cancel.remove();\n",
              "\n",
              "  // Disable the input element since further picks are not allowed.\n",
              "  inputElement.disabled = true;\n",
              "\n",
              "  if (!files) {\n",
              "    return {\n",
              "      response: {\n",
              "        action: 'complete',\n",
              "      }\n",
              "    };\n",
              "  }\n",
              "\n",
              "  for (const file of files) {\n",
              "    const li = document.createElement('li');\n",
              "    li.append(span(file.name, {fontWeight: 'bold'}));\n",
              "    li.append(span(\n",
              "        `(${file.type || 'n/a'}) - ${file.size} bytes, ` +\n",
              "        `last modified: ${\n",
              "            file.lastModifiedDate ? file.lastModifiedDate.toLocaleDateString() :\n",
              "                                    'n/a'} - `));\n",
              "    const percent = span('0% done');\n",
              "    li.appendChild(percent);\n",
              "\n",
              "    outputElement.appendChild(li);\n",
              "\n",
              "    const fileDataPromise = new Promise((resolve) => {\n",
              "      const reader = new FileReader();\n",
              "      reader.onload = (e) => {\n",
              "        resolve(e.target.result);\n",
              "      };\n",
              "      reader.readAsArrayBuffer(file);\n",
              "    });\n",
              "    // Wait for the data to be ready.\n",
              "    let fileData = yield {\n",
              "      promise: fileDataPromise,\n",
              "      response: {\n",
              "        action: 'continue',\n",
              "      }\n",
              "    };\n",
              "\n",
              "    // Use a chunked sending to avoid message size limits. See b/62115660.\n",
              "    let position = 0;\n",
              "    do {\n",
              "      const length = Math.min(fileData.byteLength - position, MAX_PAYLOAD_SIZE);\n",
              "      const chunk = new Uint8Array(fileData, position, length);\n",
              "      position += length;\n",
              "\n",
              "      const base64 = btoa(String.fromCharCode.apply(null, chunk));\n",
              "      yield {\n",
              "        response: {\n",
              "          action: 'append',\n",
              "          file: file.name,\n",
              "          data: base64,\n",
              "        },\n",
              "      };\n",
              "\n",
              "      let percentDone = fileData.byteLength === 0 ?\n",
              "          100 :\n",
              "          Math.round((position / fileData.byteLength) * 100);\n",
              "      percent.textContent = `${percentDone}% done`;\n",
              "\n",
              "    } while (position < fileData.byteLength);\n",
              "  }\n",
              "\n",
              "  // All done.\n",
              "  yield {\n",
              "    response: {\n",
              "      action: 'complete',\n",
              "    }\n",
              "  };\n",
              "}\n",
              "\n",
              "scope.google = scope.google || {};\n",
              "scope.google.colab = scope.google.colab || {};\n",
              "scope.google.colab._files = {\n",
              "  _uploadFiles,\n",
              "  _uploadFilesContinue,\n",
              "};\n",
              "})(self);\n",
              "</script> "
            ]
          },
          "metadata": {}
        }
      ]
    },
    {
      "cell_type": "code",
      "metadata": {
        "id": "z4288ey2z_Sl"
      },
      "source": [
        "import pandas as pd\n",
        "\n",
        "df_fish = pd.read_csv('/content/fish.csv')\n",
        "df_bug = pd.read_csv('/content/bugs.csv')\n",
        "df_sea_creatures = pd.read_csv('/content/sea_creatures.csv')\n",
        "\n",
        "df_list = [df_fish, df_bug, df_sea_creatures]"
      ],
      "execution_count": null,
      "outputs": []
    },
    {
      "cell_type": "markdown",
      "metadata": {
        "id": "jUHJ26tZyorH"
      },
      "source": [
        "# Data Cleaning"
      ]
    },
    {
      "cell_type": "markdown",
      "source": [
        "Within each month in the dataset, the values are the specific hours of the day that a critter is available. To find the most productive donation months, we just need to know the monthly availability, so we will turn these columns into booleans, where `True` means they are available and `False` meaning unavailable."
      ],
      "metadata": {
        "id": "vkiOOlYHQAbS"
      }
    },
    {
      "cell_type": "code",
      "source": [
        "months = [\"Jan\", \"Feb\", \"Mar\", \"Apr\", \"May\", \"Jun\", \"Jul\", \"Aug\", \"Sep\", \"Oct\", \"Nov\", \"Dec\"]\n",
        "hemispheres = [\"NH \", \"SH \"]\n",
        "\n",
        "for df in df_list:\n",
        "  for hemisphere in hemispheres:\n",
        "    for month in months:\n",
        "      col = hemisphere + month\n",
        "      if(df[col].dtype != bool):\n",
        "        df[col] = df[col].notna()\n"
      ],
      "metadata": {
        "id": "41aP4iuefpZ9"
      },
      "execution_count": null,
      "outputs": []
    },
    {
      "cell_type": "markdown",
      "source": [
        "## Merging Data\n",
        "We have 3 CSVs to read from, but it would be better if we would only have to read one. We will only keep the columns that we need and add an additional column for the type of donation."
      ],
      "metadata": {
        "id": "n8kiYbQLT6oj"
      }
    },
    {
      "cell_type": "code",
      "source": [
        "df_fish[\"Type\"] = \"Fish\"\n",
        "df_bug[\"Type\"] = \"Bug\"\n",
        "df_sea_creatures[\"Type\"] = \"Sea Creature\""
      ],
      "metadata": {
        "id": "nmYqZ7IN4G8N"
      },
      "execution_count": null,
      "outputs": []
    },
    {
      "cell_type": "code",
      "source": [
        "col_to_keep = [\"Name\", \"Sell\", \"Type\"]\n",
        "\n",
        "for month in months:\n",
        "  col_to_keep.append(\"NH \" + month)\n",
        "\n",
        "df_fish = df_fish.drop(df_fish.columns.difference(col_to_keep), axis=1)\n",
        "df_bug = df_bug.drop(df_bug.columns.difference(col_to_keep), axis=1)\n",
        "df_sea_creatures = df_sea_creatures.drop(df_sea_creatures.columns.difference(col_to_keep), axis=1)\n",
        "\n",
        "df = pd.concat([df_fish, df_bug, df_sea_creatures])"
      ],
      "metadata": {
        "id": "Ae5JTovebdP0"
      },
      "execution_count": null,
      "outputs": []
    },
    {
      "cell_type": "markdown",
      "metadata": {
        "id": "TQ6TzpTryouO"
      },
      "source": [
        "# Data Plotting"
      ]
    },
    {
      "cell_type": "markdown",
      "source": [
        "## Monthly Critters by Type"
      ],
      "metadata": {
        "id": "7byLkcll6TKg"
      }
    },
    {
      "cell_type": "markdown",
      "source": [
        "First, we can find the amount of unique critters you can find to see how many appear in which month."
      ],
      "metadata": {
        "id": "1xEyRu5BMMvP"
      }
    },
    {
      "cell_type": "code",
      "source": [
        "import seaborn as sns\n",
        "import matplotlib.pyplot as plt\n",
        "\n",
        "nh_months = []\n",
        "for month in months:\n",
        "  nh_months.append(\"NH \" + month)\n",
        "\n",
        "df_nh_months = df[[\"Type\"] + nh_months]\n",
        "\n",
        "df_melt = df_nh_months.melt(id_vars=[\"Type\"], var_name=\"Month\", value_name=\"Available\")\n",
        "df_melt = df_melt[df_melt[\"Available\"]]\n",
        "\n",
        "monthly_counts = df_melt.groupby([\"Type\", \"Month\"]).size().reset_index(name=\"Count\")\n",
        "\n",
        "hue_order = [\"Fish\", \"Bug\", \"Sea Creature\"]\n",
        "plt.figure(figsize=(12,6))\n",
        "sns.barplot(data=monthly_counts,\n",
        "            x=\"Month\", y=\"Count\", hue=\"Type\",\n",
        "            order=nh_months,\n",
        "            hue_order=hue_order)\n",
        "\n",
        "plt.xticks(rotation=45)\n",
        "plt.title(\"Available Critters per Month (by Type)\")\n",
        "plt.show()"
      ],
      "metadata": {
        "colab": {
          "base_uri": "https://localhost:8080/",
          "height": 598
        },
        "id": "Ndwyp4fTrBEe",
        "outputId": "6e6128b4-fb8c-4308-94fa-48580e1683c5"
      },
      "execution_count": null,
      "outputs": [
        {
          "output_type": "display_data",
          "data": {
            "text/plain": [
              "<Figure size 1200x600 with 1 Axes>"
            ],
            "image/png": "[encoded data removed]"
          },
          "metadata": {}
        }
      ]
    },
    {
      "cell_type": "markdown",
      "source": [
        "Based on the chart, we can see that the most available fish are in September, and the most available bugs in August, though the bug count drops in September. There is also a lower amount of sea creatures available in the game compared to bugs and fish."
      ],
      "metadata": {
        "id": "MBjNmNNQNZnX"
      }
    },
    {
      "cell_type": "markdown",
      "source": [
        "## Monthly Critters Total"
      ],
      "metadata": {
        "id": "NwP9CuFW6bZQ"
      }
    },
    {
      "cell_type": "markdown",
      "source": [
        "To visualize the numbers, we can ignore the type and sum all of the possible critters for each month."
      ],
      "metadata": {
        "id": "aEA606jcgfgy"
      }
    },
    {
      "cell_type": "code",
      "source": [
        "total_monthly_plot = df[nh_months].sum().plot(kind=\"bar\", figsize=(12,6))\n",
        "plt.ylabel(\"Available Critters\")\n",
        "plt.title(\"Total Available Critters per Month\")\n",
        "plt.xticks(rotation=45)\n",
        "\n",
        "for index, value in enumerate(df[nh_months].sum()):\n",
        "    total_monthly_plot.text(index, value, str(value), ha='center', va='bottom')\n",
        "\n",
        "plt.show()"
      ],
      "metadata": {
        "colab": {
          "base_uri": "https://localhost:8080/",
          "height": 579
        },
        "id": "xJxKhDgPsp4_",
        "outputId": "9b0457f2-8968-427b-f15c-544c27a23af4"
      },
      "execution_count": null,
      "outputs": [
        {
          "output_type": "display_data",
          "data": {
            "text/plain": [
              "<Figure size 1200x600 with 1 Axes>"
            ],
            "image/png": "[encoded data removed]"
          },
          "metadata": {}
        }
      ]
    },
    {
      "cell_type": "markdown",
      "source": [
        "## Average Sell Prices for Top Month"
      ],
      "metadata": {
        "id": "ysjIUYRIOOSm"
      }
    },
    {
      "cell_type": "markdown",
      "source": [
        "Since July, August, and September are the top 3 months with the most unique critters to donate to the museum, we should also see the information on the price of each type of critter to see which month is likely to net the player the most bells."
      ],
      "metadata": {
        "id": "BPMfhyLdzP2f"
      }
    },
    {
      "cell_type": "code",
      "source": [
        "top_months = [\"NH Jul\", \"NH Aug\", \"NH Sep\"]\n",
        "\n",
        "df_top3 = []\n",
        "for month in top_months:\n",
        "    temp_df = df[df[month]]\n",
        "    temp_df = temp_df.assign(Month=month)\n",
        "    df_top3.append(temp_df)\n",
        "\n",
        "df_top3 = pd.concat(df_top3)\n",
        "\n",
        "plt.figure(figsize=(12,6))\n",
        "sns.boxplot(data=df_top3, x=\"Month\", y=\"Sell\", hue=\"Type\")\n",
        "plt.title(\"Price Distribution for Top 3 Months per Critter\")\n",
        "plt.ylabel(\"Sell Price (Bells)\")\n",
        "plt.show()\n"
      ],
      "metadata": {
        "colab": {
          "base_uri": "https://localhost:8080/",
          "height": 564
        },
        "id": "waceUI7awc1i",
        "outputId": "8b8dd61f-8f63-46ca-b658-15c65d72a1ea"
      },
      "execution_count": null,
      "outputs": [
        {
          "output_type": "display_data",
          "data": {
            "text/plain": [
              "<Figure size 1200x600 with 1 Axes>"
            ],
            "image/png": "[encoded data removed]"
          },
          "metadata": {}
        }
      ]
    },
    {
      "cell_type": "code",
      "source": [
        "df_top3.groupby([\"Month\", \"Type\"])[\"Sell\"].describe()"
      ],
      "metadata": {
        "colab": {
          "base_uri": "https://localhost:8080/",
          "height": 363
        },
        "id": "3lFrP1PO1fUM",
        "outputId": "56db8282-f370-4d9e-b8d9-de29ce0e99b3"
      },
      "execution_count": null,
      "outputs": [
        {
          "output_type": "execute_result",
          "data": {
            "text/plain": [
              "                     count         mean          std    min    25%     50%  \\\n",
              "Month  Type                                                                  \n",
              "NH Aug Bug            63.0  2543.492063  3407.805158   10.0  275.0   800.0   \n",
              "       Fish           60.0  3693.333333  4463.690298  120.0  500.0  1400.0   \n",
              "       Sea Creature   24.0  3004.166667  3814.671810  500.0  975.0  1600.0   \n",
              "NH Jul Bug            61.0  2607.213115  3445.510185   10.0  250.0  1000.0   \n",
              "       Fish           58.0  3671.551724  4559.702515  100.0  425.0  1300.0   \n",
              "       Sea Creature   24.0  3000.000000  3817.351688  500.0  975.0  1600.0   \n",
              "NH Sep Bug            51.0  1368.235294  1927.228794   60.0  190.0   430.0   \n",
              "       Fish           63.0  3829.841270  4562.702048  150.0  675.0  1800.0   \n",
              "       Sea Creature   28.0  2585.714286  3363.718653  500.0  975.0  1450.0   \n",
              "\n",
              "                        75%      max  \n",
              "Month  Type                           \n",
              "NH Aug Bug           3000.0  12000.0  \n",
              "       Fish          5000.0  15000.0  \n",
              "       Sea Creature  2575.0  15000.0  \n",
              "NH Jul Bug           3000.0  12000.0  \n",
              "       Fish          5000.0  15000.0  \n",
              "       Sea Creature  2575.0  15000.0  \n",
              "NH Sep Bug           2200.0   8000.0  \n",
              "       Fish          4750.0  15000.0  \n",
              "       Sea Creature  2500.0  15000.0  "
            ],
            "text/html": [
              "\n",
              "  <div id=\"df-a24995ce-c324-4d26-aec2-8b55fc9c2705\" class=\"colab-df-container\">\n",
              "    <div>\n",
              "<style scoped>\n",
              "    .dataframe tbody tr th:only-of-type {\n",
              "        vertical-align: middle;\n",
              "    }\n",
              "\n",
              "    .dataframe tbody tr th {\n",
              "        vertical-align: top;\n",
              "    }\n",
              "\n",
              "    .dataframe thead th {\n",
              "        text-align: right;\n",
              "    }\n",
              "</style>\n",
              "<table border=\"1\" class=\"dataframe\">\n",
              "  <thead>\n",
              "    <tr style=\"text-align: right;\">\n",
              "      <th></th>\n",
              "      <th></th>\n",
              "      <th>count</th>\n",
              "      <th>mean</th>\n",
              "      <th>std</th>\n",
              "      <th>min</th>\n",
              "      <th>25%</th>\n",
              "      <th>50%</th>\n",
              "      <th>75%</th>\n",
              "      <th>max</th>\n",
              "    </tr>\n",
              "    <tr>\n",
              "      <th>Month</th>\n",
              "      <th>Type</th>\n",
              "      <th></th>\n",
              "      <th></th>\n",
              "      <th></th>\n",
              "      <th></th>\n",
              "      <th></th>\n",
              "      <th></th>\n",
              "      <th></th>\n",
              "      <th></th>\n",
              "    </tr>\n",
              "  </thead>\n",
              "  <tbody>\n",
              "    <tr>\n",
              "      <th rowspan=\"3\" valign=\"top\">NH Aug</th>\n",
              "      <th>Bug</th>\n",
              "      <td>63.0</td>\n",
              "      <td>2543.492063</td>\n",
              "      <td>3407.805158</td>\n",
              "      <td>10.0</td>\n",
              "      <td>275.0</td>\n",
              "      <td>800.0</td>\n",
              "      <td>3000.0</td>\n",
              "      <td>12000.0</td>\n",
              "    </tr>\n",
              "    <tr>\n",
              "      <th>Fish</th>\n",
              "      <td>60.0</td>\n",
              "      <td>3693.333333</td>\n",
              "      <td>4463.690298</td>\n",
              "      <td>120.0</td>\n",
              "      <td>500.0</td>\n",
              "      <td>1400.0</td>\n",
              "      <td>5000.0</td>\n",
              "      <td>15000.0</td>\n",
              "    </tr>\n",
              "    <tr>\n",
              "      <th>Sea Creature</th>\n",
              "      <td>24.0</td>\n",
              "      <td>3004.166667</td>\n",
              "      <td>3814.671810</td>\n",
              "      <td>500.0</td>\n",
              "      <td>975.0</td>\n",
              "      <td>1600.0</td>\n",
              "      <td>2575.0</td>\n",
              "      <td>15000.0</td>\n",
              "    </tr>\n",
              "    <tr>\n",
              "      <th rowspan=\"3\" valign=\"top\">NH Jul</th>\n",
              "      <th>Bug</th>\n",
              "      <td>61.0</td>\n",
              "      <td>2607.213115</td>\n",
              "      <td>3445.510185</td>\n",
              "      <td>10.0</td>\n",
              "      <td>250.0</td>\n",
              "      <td>1000.0</td>\n",
              "      <td>3000.0</td>\n",
              "      <td>12000.0</td>\n",
              "    </tr>\n",
              "    <tr>\n",
              "      <th>Fish</th>\n",
              "      <td>58.0</td>\n",
              "      <td>3671.551724</td>\n",
              "      <td>4559.702515</td>\n",
              "      <td>100.0</td>\n",
              "      <td>425.0</td>\n",
              "      <td>1300.0</td>\n",
              "      <td>5000.0</td>\n",
              "      <td>15000.0</td>\n",
              "    </tr>\n",
              "    <tr>\n",
              "      <th>Sea Creature</th>\n",
              "      <td>24.0</td>\n",
              "      <td>3000.000000</td>\n",
              "      <td>3817.351688</td>\n",
              "      <td>500.0</td>\n",
              "      <td>975.0</td>\n",
              "      <td>1600.0</td>\n",
              "      <td>2575.0</td>\n",
              "      <td>15000.0</td>\n",
              "    </tr>\n",
              "    <tr>\n",
              "      <th rowspan=\"3\" valign=\"top\">NH Sep</th>\n",
              "      <th>Bug</th>\n",
              "      <td>51.0</td>\n",
              "      <td>1368.235294</td>\n",
              "      <td>1927.228794</td>\n",
              "      <td>60.0</td>\n",
              "      <td>190.0</td>\n",
              "      <td>430.0</td>\n",
              "      <td>2200.0</td>\n",
              "      <td>8000.0</td>\n",
              "    </tr>\n",
              "    <tr>\n",
              "      <th>Fish</th>\n",
              "      <td>63.0</td>\n",
              "      <td>3829.841270</td>\n",
              "      <td>4562.702048</td>\n",
              "      <td>150.0</td>\n",
              "      <td>675.0</td>\n",
              "      <td>1800.0</td>\n",
              "      <td>4750.0</td>\n",
              "      <td>15000.0</td>\n",
              "    </tr>\n",
              "    <tr>\n",
              "      <th>Sea Creature</th>\n",
              "      <td>28.0</td>\n",
              "      <td>2585.714286</td>\n",
              "      <td>3363.718653</td>\n",
              "      <td>500.0</td>\n",
              "      <td>975.0</td>\n",
              "      <td>1450.0</td>\n",
              "      <td>2500.0</td>\n",
              "      <td>15000.0</td>\n",
              "    </tr>\n",
              "  </tbody>\n",
              "</table>\n",
              "</div>\n",
              "    <div class=\"colab-df-buttons\">\n",
              "\n",
              "  <div class=\"colab-df-container\">\n",
              "    <button class=\"colab-df-convert\" onclick=\"convertToInteractive('df-a24995ce-c324-4d26-aec2-8b55fc9c2705')\"\n",
              "            title=\"Convert this dataframe to an interactive table.\"\n",
              "            style=\"display:none;\">\n",
              "\n",
              "  <svg xmlns=\"http://www.w3.org/2000/svg\" height=\"24px\" viewBox=\"0 -960 960 960\">\n",
              "    <path d=\"M120-120v-720h720v720H120Zm60-500h600v-160H180v160Zm220 220h160v-160H400v160Zm0 220h160v-160H400v160ZM180-400h160v-160H180v160Zm440 0h160v-160H620v160ZM180-180h160v-160H180v160Zm440 0h160v-160H620v160Z\"/>\n",
              "  </svg>\n",
              "    </button>\n",
              "\n",
              "  <style>\n",
              "    .colab-df-container {\n",
              "      display:flex;\n",
              "      gap: 12px;\n",
              "    }\n",
              "\n",
              "    .colab-df-convert {\n",
              "      background-color: #E8F0FE;\n",
              "      border: none;\n",
              "      border-radius: 50%;\n",
              "      cursor: pointer;\n",
              "      display: none;\n",
              "      fill: #1967D2;\n",
              "      height: 32px;\n",
              "      padding: 0 0 0 0;\n",
              "      width: 32px;\n",
              "    }\n",
              "\n",
              "    .colab-df-convert:hover {\n",
              "      background-color: #E2EBFA;\n",
              "      box-shadow: 0px 1px 2px rgba(60, 64, 67, 0.3), 0px 1px 3px 1px rgba(60, 64, 67, 0.15);\n",
              "      fill: #174EA6;\n",
              "    }\n",
              "\n",
              "    .colab-df-buttons div {\n",
              "      margin-bottom: 4px;\n",
              "    }\n",
              "\n",
              "    [theme=dark] .colab-df-convert {\n",
              "      background-color: #3B4455;\n",
              "      fill: #D2E3FC;\n",
              "    }\n",
              "\n",
              "    [theme=dark] .colab-df-convert:hover {\n",
              "      background-color: #434B5C;\n",
              "      box-shadow: 0px 1px 3px 1px rgba(0, 0, 0, 0.15);\n",
              "      filter: drop-shadow(0px 1px 2px rgba(0, 0, 0, 0.3));\n",
              "      fill: #FFFFFF;\n",
              "    }\n",
              "  </style>\n",
              "\n",
              "    <script>\n",
              "      const buttonEl =\n",
              "        document.querySelector('#df-a24995ce-c324-4d26-aec2-8b55fc9c2705 button.colab-df-convert');\n",
              "      buttonEl.style.display =\n",
              "        google.colab.kernel.accessAllowed ? 'block' : 'none';\n",
              "\n",
              "      async function convertToInteractive(key) {\n",
              "        const element = document.querySelector('#df-a24995ce-c324-4d26-aec2-8b55fc9c2705');\n",
              "        const dataTable =\n",
              "          await google.colab.kernel.invokeFunction('convertToInteractive',\n",
              "                                                    [key], {});\n",
              "        if (!dataTable) return;\n",
              "\n",
              "        const docLinkHtml = 'Like what you see? Visit the ' +\n",
              "          '<a target=\"_blank\" href=https://colab.research.google.com/notebooks/data_table.ipynb>data table notebook</a>'\n",
              "          + ' to learn more about interactive tables.';\n",
              "        element.innerHTML = '';\n",
              "        dataTable['output_type'] = 'display_data';\n",
              "        await google.colab.output.renderOutput(dataTable, element);\n",
              "        const docLink = document.createElement('div');\n",
              "        docLink.innerHTML = docLinkHtml;\n",
              "        element.appendChild(docLink);\n",
              "      }\n",
              "    </script>\n",
              "  </div>\n",
              "\n",
              "\n",
              "    <div id=\"df-5a82d887-3994-4182-8da9-28d92d405583\">\n",
              "      <button class=\"colab-df-quickchart\" onclick=\"quickchart('df-5a82d887-3994-4182-8da9-28d92d405583')\"\n",
              "                title=\"Suggest charts\"\n",
              "                style=\"display:none;\">\n",
              "\n",
              "<svg xmlns=\"http://www.w3.org/2000/svg\" height=\"24px\"viewBox=\"0 0 24 24\"\n",
              "     width=\"24px\">\n",
              "    <g>\n",
              "        <path d=\"M19 3H5c-1.1 0-2 .9-2 2v14c0 1.1.9 2 2 2h14c1.1 0 2-.9 2-2V5c0-1.1-.9-2-2-2zM9 17H7v-7h2v7zm4 0h-2V7h2v10zm4 0h-2v-4h2v4z\"/>\n",
              "    </g>\n",
              "</svg>\n",
              "      </button>\n",
              "\n",
              "<style>\n",
              "  .colab-df-quickchart {\n",
              "      --bg-color: #E8F0FE;\n",
              "      --fill-color: #1967D2;\n",
              "      --hover-bg-color: #E2EBFA;\n",
              "      --hover-fill-color: #174EA6;\n",
              "      --disabled-fill-color: #AAA;\n",
              "      --disabled-bg-color: #DDD;\n",
              "  }\n",
              "\n",
              "  [theme=dark] .colab-df-quickchart {\n",
              "      --bg-color: #3B4455;\n",
              "      --fill-color: #D2E3FC;\n",
              "      --hover-bg-color: #434B5C;\n",
              "      --hover-fill-color: #FFFFFF;\n",
              "      --disabled-bg-color: #3B4455;\n",
              "      --disabled-fill-color: #666;\n",
              "  }\n",
              "\n",
              "  .colab-df-quickchart {\n",
              "    background-color: var(--bg-color);\n",
              "    border: none;\n",
              "    border-radius: 50%;\n",
              "    cursor: pointer;\n",
              "    display: none;\n",
              "    fill: var(--fill-color);\n",
              "    height: 32px;\n",
              "    padding: 0;\n",
              "    width: 32px;\n",
              "  }\n",
              "\n",
              "  .colab-df-quickchart:hover {\n",
              "    background-color: var(--hover-bg-color);\n",
              "    box-shadow: 0 1px 2px rgba(60, 64, 67, 0.3), 0 1px 3px 1px rgba(60, 64, 67, 0.15);\n",
              "    fill: var(--button-hover-fill-color);\n",
              "  }\n",
              "\n",
              "  .colab-df-quickchart-complete:disabled,\n",
              "  .colab-df-quickchart-complete:disabled:hover {\n",
              "    background-color: var(--disabled-bg-color);\n",
              "    fill: var(--disabled-fill-color);\n",
              "    box-shadow: none;\n",
              "  }\n",
              "\n",
              "  .colab-df-spinner {\n",
              "    border: 2px solid var(--fill-color);\n",
              "    border-color: transparent;\n",
              "    border-bottom-color: var(--fill-color);\n",
              "    animation:\n",
              "      spin 1s steps(1) infinite;\n",
              "  }\n",
              "\n",
              "  @keyframes spin {\n",
              "    0% {\n",
              "      border-color: transparent;\n",
              "      border-bottom-color: var(--fill-color);\n",
              "      border-left-color: var(--fill-color);\n",
              "    }\n",
              "    20% {\n",
              "      border-color: transparent;\n",
              "      border-left-color: var(--fill-color);\n",
              "      border-top-color: var(--fill-color);\n",
              "    }\n",
              "    30% {\n",
              "      border-color: transparent;\n",
              "      border-left-color: var(--fill-color);\n",
              "      border-top-color: var(--fill-color);\n",
              "      border-right-color: var(--fill-color);\n",
              "    }\n",
              "    40% {\n",
              "      border-color: transparent;\n",
              "      border-right-color: var(--fill-color);\n",
              "      border-top-color: var(--fill-color);\n",
              "    }\n",
              "    60% {\n",
              "      border-color: transparent;\n",
              "      border-right-color: var(--fill-color);\n",
              "    }\n",
              "    80% {\n",
              "      border-color: transparent;\n",
              "      border-right-color: var(--fill-color);\n",
              "      border-bottom-color: var(--fill-color);\n",
              "    }\n",
              "    90% {\n",
              "      border-color: transparent;\n",
              "      border-bottom-color: var(--fill-color);\n",
              "    }\n",
              "  }\n",
              "</style>\n",
              "\n",
              "      <script>\n",
              "        async function quickchart(key) {\n",
              "          const quickchartButtonEl =\n",
              "            document.querySelector('#' + key + ' button');\n",
              "          quickchartButtonEl.disabled = true;  // To prevent multiple clicks.\n",
              "          quickchartButtonEl.classList.add('colab-df-spinner');\n",
              "          try {\n",
              "            const charts = await google.colab.kernel.invokeFunction(\n",
              "                'suggestCharts', [key], {});\n",
              "          } catch (error) {\n",
              "            console.error('Error during call to suggestCharts:', error);\n",
              "          }\n",
              "          quickchartButtonEl.classList.remove('colab-df-spinner');\n",
              "          quickchartButtonEl.classList.add('colab-df-quickchart-complete');\n",
              "        }\n",
              "        (() => {\n",
              "          let quickchartButtonEl =\n",
              "            document.querySelector('#df-5a82d887-3994-4182-8da9-28d92d405583 button');\n",
              "          quickchartButtonEl.style.display =\n",
              "            google.colab.kernel.accessAllowed ? 'block' : 'none';\n",
              "        })();\n",
              "      </script>\n",
              "    </div>\n",
              "\n",
              "    </div>\n",
              "  </div>\n"
            ],
            "application/vnd.google.colaboratory.intrinsic+json": {
              "type": "dataframe",
              "summary": "{\n  \"name\": \"df_top3\",\n  \"rows\": 9,\n  \"fields\": [\n    {\n      \"column\": \"count\",\n      \"properties\": {\n        \"dtype\": \"number\",\n        \"std\": 17.406895185529212,\n        \"min\": 24.0,\n        \"max\": 63.0,\n        \"num_unique_values\": 7,\n        \"samples\": [\n          63.0,\n          60.0,\n          51.0\n        ],\n        \"semantic_type\": \"\",\n        \"description\": \"\"\n      }\n    },\n    {\n      \"column\": \"mean\",\n      \"properties\": {\n        \"dtype\": \"number\",\n        \"std\": 771.6396904384777,\n        \"min\": 1368.235294117647,\n        \"max\": 3829.84126984127,\n        \"num_unique_values\": 9,\n        \"samples\": [\n          3829.84126984127,\n          3693.3333333333335,\n          3000.0\n        ],\n        \"semantic_type\": \"\",\n        \"description\": \"\"\n      }\n    },\n    {\n      \"column\": \"std\",\n      \"properties\": {\n        \"dtype\": \"number\",\n        \"std\": 829.080858324245,\n        \"min\": 1927.228793768247,\n        \"max\": 4562.702047515086,\n        \"num_unique_values\": 9,\n        \"samples\": [\n          4562.702047515086,\n          4463.6902976625,\n          3817.3516884148203\n        ],\n        \"semantic_type\": \"\",\n        \"description\": \"\"\n      }\n    },\n    {\n      \"column\": \"min\",\n      \"properties\": {\n        \"dtype\": \"number\",\n        \"std\": 217.428149051589,\n        \"min\": 10.0,\n        \"max\": 500.0,\n        \"num_unique_values\": 6,\n        \"samples\": [\n          10.0,\n          120.0,\n          150.0\n        ],\n        \"semantic_type\": \"\",\n        \"description\": \"\"\n      }\n    },\n    {\n      \"column\": \"25%\",\n      \"properties\": {\n        \"dtype\": \"number\",\n        \"std\": 328.15879455599605,\n        \"min\": 190.0,\n        \"max\": 975.0,\n        \"num_unique_values\": 7,\n        \"samples\": [\n          275.0,\n          500.0,\n          190.0\n        ],\n        \"semantic_type\": \"\",\n        \"description\": \"\"\n      }\n    },\n    {\n      \"column\": \"50%\",\n      \"properties\": {\n        \"dtype\": \"number\",\n        \"std\": 439.8895063283253,\n        \"min\": 430.0,\n        \"max\": 1800.0,\n        \"num_unique_values\": 8,\n        \"samples\": [\n          1400.0,\n          430.0,\n          800.0\n        ],\n        \"semantic_type\": \"\",\n        \"description\": \"\"\n      }\n    },\n    {\n      \"column\": \"75%\",\n      \"properties\": {\n        \"dtype\": \"number\",\n        \"std\": 1165.8553726770745,\n        \"min\": 2200.0,\n        \"max\": 5000.0,\n        \"num_unique_values\": 6,\n        \"samples\": [\n          3000.0,\n          5000.0,\n          2500.0\n        ],\n        \"semantic_type\": \"\",\n        \"description\": \"\"\n      }\n    },\n    {\n      \"column\": \"max\",\n      \"properties\": {\n        \"dtype\": \"number\",\n        \"std\": 2455.1533104427062,\n        \"min\": 8000.0,\n        \"max\": 15000.0,\n        \"num_unique_values\": 3,\n        \"samples\": [\n          12000.0,\n          15000.0,\n          8000.0\n        ],\n        \"semantic_type\": \"\",\n        \"description\": \"\"\n      }\n    }\n  ]\n}"
            }
          },
          "metadata": {},
          "execution_count": 11
        }
      ]
    },
    {
      "cell_type": "markdown",
      "source": [
        "# Results"
      ],
      "metadata": {
        "id": "B03Rc_fy5gyx"
      }
    },
    {
      "cell_type": "markdown",
      "source": [
        "Solely going off of the number of available critters for donation, August has the most. This would make it the single most productive month for museum donations. July and September are very similar in the amount of available critters, but are still less than August.\n",
        "\n",
        "When it comes to player profit, sea creatures are consistent across all 3 months. Despite having 4 more sea creatures from August to September, the Vampire Squid, which sells for 10,000 bells becomes unavailable, and 4  sea creatures selling for 1,000 - 1,800 become available, dropping the average. To compensate, the Umbrella Octopus becomes available, selling for 6,000 bells, preventing the average from dropping too much.\n",
        "\n",
        "Fish have the highest average prices across the board, primarily due to the 4 different sharks being available from June to September, ranging from 8,000 - 15,000 bells each. September also introduces several fish that sell for 1,000+ bells. However, All months from July to September are solid for making money off of fishing.\n",
        "\n",
        "Lastly, bugs make the best profit in July and August, as the available species drops from 63 in August to 51 in September. The average selling price also plummets to 1,368 bells, with all quartiles being lower than past months. This drop happens because all of the stag beetles, which are some of the most valuable bugs in the game, are only available in July and August out of the entire year. 8 out of 16 of these beetles are within the 8,000 - 12,000 bell range. Replacing them are three bugs that range from 400 - 600 bells."
      ],
      "metadata": {
        "id": "4SNZPj-Hzrjn"
      }
    },
    {
      "cell_type": "markdown",
      "source": [
        "Taking these factors into consideration, **August** seems to be the best overall month for collecting critters for both museum donations and profit. While the impact from sea creatures is low, August is the sweet spot where the most valuable fish and bugs appear. That month also happens to be where the most critters are available, likely due to the 16 tree beetles being present, proven by the number of bugs available on those months are higher than fish.\n",
        "\n",
        "Best Month: **August** (February for Southern Hemisphere)"
      ],
      "metadata": {
        "id": "wTYkw-efNFtn"
      }
    },
    {
      "cell_type": "markdown",
      "source": [
        "## Next Steps\n",
        "\n",
        "To continue finding the best months for museums, I could look into when certain critters become available during certain months, and having exceptions to critters that are available year-round. I could also look for the best time and location to collect critters, as bugs and fish appear at different spots and may have unique spawn conditions."
      ],
      "metadata": {
        "id": "IdZHN2_fOcwW"
      }
    }
  ]
}